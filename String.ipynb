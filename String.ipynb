{
  "nbformat": 4,
  "nbformat_minor": 0,
  "metadata": {
    "colab": {
      "provenance": [],
      "authorship_tag": "ABX9TyMCsO7oUR2GAznL2uu/+sAS",
      "include_colab_link": true
    },
    "kernelspec": {
      "name": "python3",
      "display_name": "Python 3"
    },
    "language_info": {
      "name": "python"
    }
  },
  "cells": [
    {
      "cell_type": "markdown",
      "metadata": {
        "id": "view-in-github",
        "colab_type": "text"
      },
      "source": [
        "<a href=\"https://colab.research.google.com/github/karelpaulec/Kaja/blob/main/String.ipynb\" target=\"_parent\"><img src=\"https://colab.research.google.com/assets/colab-badge.svg\" alt=\"Open In Colab\"/></a>"
      ]
    },
    {
      "cell_type": "markdown",
      "source": [
        "Cvičení String\n",
        "\n",
        "---\n",
        "\n"
      ],
      "metadata": {
        "id": "AdW0ksVkYmJn"
      }
    },
    {
      "cell_type": "code",
      "execution_count": null,
      "metadata": {
        "colab": {
          "base_uri": "https://localhost:8080/"
        },
        "id": "qI0FV8N8dGk0",
        "outputId": "61b56fe2-3816-4b5c-cbba-1cc234d20a29"
      },
      "outputs": [
        {
          "output_type": "stream",
          "name": "stdout",
          "text": [
            "86\n",
            "373\n"
          ]
        }
      ],
      "source": [
        "#titulek\n",
        "titulek ='Češi vyvinuli „chytrou kolej“, odhalí poškozený vlak. Testuje se u nás a na Tchaj-wanu'\n",
        "#text\n",
        "text = \"\"\"Sada prvků ze speciálních materiálů a elektroniky dokáže za pár desítek minut udělat z běžné koleje „chytrou“. Společný projekt českých firem ALIS Tech, Drážní revize a Fakulty strojního inženýrství Vysokého učení technického (VUT) v Brně měl původně pomáhat s údržbou rizikových míst na trati nebo sloužit jako systém včasného varování. Nově umí odhalit i poškozený vlak. \"\"\"\n",
        "\n",
        "#delka tit\n",
        "print(len(titulek))\n",
        "#delka text\n",
        "print(len(text))"
      ]
    },
    {
      "cell_type": "code",
      "source": [
        "print('Tohle je titulek:',titulek)\n",
        "#Lze krasne psat do textu.\n",
        "print(f'Tohle je titulek: {titulek}') \n"
      ],
      "metadata": {
        "colab": {
          "base_uri": "https://localhost:8080/"
        },
        "id": "KJWtUyKwLN6j",
        "outputId": "e374faac-de59-4843-93e5-ecb8303d27da"
      },
      "execution_count": null,
      "outputs": [
        {
          "output_type": "stream",
          "name": "stdout",
          "text": [
            "Tohle je titulek: Češi vyvinuli „chytrou kolej“, odhalí poškozený vlak. Testuje se u nás a na Tchaj-wanu\n",
            "Tohle je titulek: Češi vyvinuli „chytrou kolej“, odhalí poškozený vlak. Testuje se u nás a na Tchaj-wanu\n"
          ]
        }
      ]
    },
    {
      "cell_type": "code",
      "source": [
        "cely_clanek = titulek +', '+ text\n",
        "print(f'Tohle je celkový článek v jednom řádku: {cely_clanek}')"
      ],
      "metadata": {
        "colab": {
          "base_uri": "https://localhost:8080/"
        },
        "id": "QEGBp3zOPbqQ",
        "outputId": "cd78f2fd-d171-4fc6-f14b-91272ec2a1ca"
      },
      "execution_count": null,
      "outputs": [
        {
          "output_type": "stream",
          "name": "stdout",
          "text": [
            "Tohle je celkový článek v jednom řádku: Češi vyvinuli „chytrou kolej“, odhalí poškozený vlak. Testuje se u nás a na Tchaj-wanu, Sada prvků ze speciálních materiálů a elektroniky dokáže za pár desítek minut udělat z běžné koleje „chytrou“. Společný projekt českých firem ALIS Tech, Drážní revize a Fakulty strojního inženýrství Vysokého učení technického (VUT) v Brně měl původně pomáhat s údržbou rizikových míst na trati nebo sloužit jako systém včasného varování. Nově umí odhalit i poškozený vlak. \n"
          ]
        }
      ]
    },
    {
      "cell_type": "markdown",
      "source": [
        "String"
      ],
      "metadata": {
        "id": "Mb3sV0NJYDSQ"
      }
    },
    {
      "cell_type": "code",
      "source": [
        "\n",
        "print('Nedávno skončený Mezinárodní strojírenský veletrh, na kterém se sešly špičky strojírenského průmyslu z České republiky i ze zahraničí, potvrdil nedostatek pracovníků na mnoha pozicích tohoto odvětví.') "
      ],
      "metadata": {
        "colab": {
          "base_uri": "https://localhost:8080/"
        },
        "id": "tc6YxOxGR8BF",
        "outputId": "cf1ae649-e5f9-4b6f-a46a-22ee7c69d7e3"
      },
      "execution_count": null,
      "outputs": [
        {
          "output_type": "stream",
          "name": "stdout",
          "text": [
            "Nedávno skončený Mezinárodní strojírenský veletrh, na kterém se sešly špičky strojírenského průmyslu z České republiky i ze zahraničí, potvrdil nedostatek pracovníků na mnoha pozicích tohoto odvětví.\n"
          ]
        }
      ]
    },
    {
      "cell_type": "code",
      "source": [
        "vytvoreni_objektu = 'Nedávno skončený Mezinárodní strojírenský veletrh, na kterém se sešly špičky strojírenského průmyslu z České republiky i ze zahraničí, potvrdil nedostatek pracovníků na mnoha pozicích tohoto odvětví.'"
      ],
      "metadata": {
        "id": "Gq7wcK-lVv9H"
      },
      "execution_count": null,
      "outputs": []
    },
    {
      "cell_type": "code",
      "source": [
        "print(vytvoreni_objektu)"
      ],
      "metadata": {
        "colab": {
          "base_uri": "https://localhost:8080/"
        },
        "id": "Wg1_t7kZWDI4",
        "outputId": "1342234b-dd2c-420a-c494-f4d5658fa894"
      },
      "execution_count": null,
      "outputs": [
        {
          "output_type": "stream",
          "name": "stdout",
          "text": [
            "Nedávno skončený Mezinárodní strojírenský veletrh, na kterém se sešly špičky strojírenského průmyslu z České republiky i ze zahraničí, potvrdil nedostatek pracovníků na mnoha pozicích tohoto odvětví.\n"
          ]
        }
      ]
    },
    {
      "cell_type": "markdown",
      "source": [
        "Dělitelnost"
      ],
      "metadata": {
        "id": "o42GbqiqWbuS"
      }
    },
    {
      "cell_type": "code",
      "source": [
        "text = 'Nedávno skončený Mezinárodní strojírenský veletrh, na kterém se sešly špičky strojírenského průmyslu z České republiky i ze zahraničí, potvrdil nedostatek pracovníků na mnoha pozicích tohoto odvětví.'\n",
        "\n",
        "text\n",
        "text"
      ],
      "metadata": {
        "colab": {
          "base_uri": "https://localhost:8080/",
          "height": 53
        },
        "id": "Kj7TeldFWjVv",
        "outputId": "fdb8ef15-4170-4056-e094-042c169c4a20"
      },
      "execution_count": null,
      "outputs": [
        {
          "output_type": "execute_result",
          "data": {
            "text/plain": [
              "'Nedávno skončený Mezinárodní strojírenský veletrh, na kterém se sešly špičky strojírenského průmyslu z České republiky i ze zahraničí, potvrdil nedostatek pracovníků na mnoha pozicích tohoto odvětví.'"
            ],
            "application/vnd.google.colaboratory.intrinsic+json": {
              "type": "string"
            }
          },
          "metadata": {},
          "execution_count": 13
        }
      ]
    },
    {
      "cell_type": "code",
      "source": [
        "\n",
        "text[:7]"
      ],
      "metadata": {
        "colab": {
          "base_uri": "https://localhost:8080/",
          "height": 35
        },
        "id": "7yT6ArDJW3vS",
        "outputId": "87f89dea-1244-4ea4-ed65-db5166ac1ed2"
      },
      "execution_count": null,
      "outputs": [
        {
          "output_type": "execute_result",
          "data": {
            "text/plain": [
              "'Nedávno'"
            ],
            "application/vnd.google.colaboratory.intrinsic+json": {
              "type": "string"
            }
          },
          "metadata": {},
          "execution_count": 14
        }
      ]
    },
    {
      "cell_type": "code",
      "source": [
        "text[8:50]"
      ],
      "metadata": {
        "colab": {
          "base_uri": "https://localhost:8080/",
          "height": 35
        },
        "id": "sWfGdUcTXEpl",
        "outputId": "73df7b66-4dea-4d9c-f4b4-ee3c5405c3e4"
      },
      "execution_count": null,
      "outputs": [
        {
          "output_type": "execute_result",
          "data": {
            "text/plain": [
              "'skončený Mezinárodní strojírenský veletrh,'"
            ],
            "application/vnd.google.colaboratory.intrinsic+json": {
              "type": "string"
            }
          },
          "metadata": {},
          "execution_count": 15
        }
      ]
    },
    {
      "cell_type": "code",
      "source": [
        "text[-5:-1]"
      ],
      "metadata": {
        "colab": {
          "base_uri": "https://localhost:8080/",
          "height": 35
        },
        "id": "SdZQ0lz4XL0v",
        "outputId": "7694f908-9aef-4cb7-adc8-2176827c4ea8"
      },
      "execution_count": null,
      "outputs": [
        {
          "output_type": "execute_result",
          "data": {
            "text/plain": [
              "'ětví'"
            ],
            "application/vnd.google.colaboratory.intrinsic+json": {
              "type": "string"
            }
          },
          "metadata": {},
          "execution_count": 16
        }
      ]
    },
    {
      "cell_type": "code",
      "source": [
        "text[0] #index jen jedno pismo"
      ],
      "metadata": {
        "colab": {
          "base_uri": "https://localhost:8080/",
          "height": 35
        },
        "id": "jfr00wpfXWoP",
        "outputId": "fdbc3382-3c07-465b-bcff-758c915ec1c6"
      },
      "execution_count": null,
      "outputs": [
        {
          "output_type": "execute_result",
          "data": {
            "text/plain": [
              "'N'"
            ],
            "application/vnd.google.colaboratory.intrinsic+json": {
              "type": "string"
            }
          },
          "metadata": {},
          "execution_count": 17
        }
      ]
    },
    {
      "cell_type": "code",
      "source": [
        "'spolu'+ 'dohromady' #mohu spojit"
      ],
      "metadata": {
        "colab": {
          "base_uri": "https://localhost:8080/",
          "height": 35
        },
        "id": "HgpqcV8vZp0f",
        "outputId": "ba8b3ada-194c-4e12-9e7c-8dd543ace2fc"
      },
      "execution_count": null,
      "outputs": [
        {
          "output_type": "execute_result",
          "data": {
            "text/plain": [
              "'spoludohromady'"
            ],
            "application/vnd.google.colaboratory.intrinsic+json": {
              "type": "string"
            }
          },
          "metadata": {},
          "execution_count": 26
        }
      ]
    },
    {
      "cell_type": "code",
      "source": [
        "'='*50  #mohu opakovat znak"
      ],
      "metadata": {
        "colab": {
          "base_uri": "https://localhost:8080/",
          "height": 35
        },
        "id": "b_0drvlNZ32n",
        "outputId": "b319086d-4b0d-4ad2-88a6-5213f1190934"
      },
      "execution_count": null,
      "outputs": [
        {
          "output_type": "execute_result",
          "data": {
            "text/plain": [
              "'=================================================='"
            ],
            "application/vnd.google.colaboratory.intrinsic+json": {
              "type": "string"
            }
          },
          "metadata": {},
          "execution_count": 25
        }
      ]
    },
    {
      "cell_type": "code",
      "source": [
        "\n",
        "len(text) #ziskat jeho delku. -> pocet znaku."
      ],
      "metadata": {
        "colab": {
          "base_uri": "https://localhost:8080/"
        },
        "id": "3FcLfe3Namy-",
        "outputId": "1ed1ed62-fad8-4381-8ff7-17c4d68bb377"
      },
      "execution_count": null,
      "outputs": [
        {
          "output_type": "execute_result",
          "data": {
            "text/plain": [
              "199"
            ]
          },
          "metadata": {},
          "execution_count": 28
        }
      ]
    },
    {
      "cell_type": "code",
      "source": [
        "type(text) #zjistit typ objektu  -> je to string!"
      ],
      "metadata": {
        "colab": {
          "base_uri": "https://localhost:8080/"
        },
        "id": "HEAKneOrbYCa",
        "outputId": "81fe4c98-45ba-4478-f6c2-3b9019ed4f43"
      },
      "execution_count": null,
      "outputs": [
        {
          "output_type": "execute_result",
          "data": {
            "text/plain": [
              "str"
            ]
          },
          "metadata": {},
          "execution_count": 29
        }
      ]
    },
    {
      "cell_type": "code",
      "source": [
        "dir(text) #informace o objektu! Vime, ze je to string a tohle jsou jeho atributy. "
      ],
      "metadata": {
        "colab": {
          "base_uri": "https://localhost:8080/"
        },
        "id": "ID-sYhQBbqX1",
        "outputId": "af418d2f-ff54-4d63-c6fa-e60ee8c8f3f3"
      },
      "execution_count": null,
      "outputs": [
        {
          "output_type": "execute_result",
          "data": {
            "text/plain": [
              "['__add__',\n",
              " '__class__',\n",
              " '__contains__',\n",
              " '__delattr__',\n",
              " '__dir__',\n",
              " '__doc__',\n",
              " '__eq__',\n",
              " '__format__',\n",
              " '__ge__',\n",
              " '__getattribute__',\n",
              " '__getitem__',\n",
              " '__getnewargs__',\n",
              " '__gt__',\n",
              " '__hash__',\n",
              " '__init__',\n",
              " '__init_subclass__',\n",
              " '__iter__',\n",
              " '__le__',\n",
              " '__len__',\n",
              " '__lt__',\n",
              " '__mod__',\n",
              " '__mul__',\n",
              " '__ne__',\n",
              " '__new__',\n",
              " '__reduce__',\n",
              " '__reduce_ex__',\n",
              " '__repr__',\n",
              " '__rmod__',\n",
              " '__rmul__',\n",
              " '__setattr__',\n",
              " '__sizeof__',\n",
              " '__str__',\n",
              " '__subclasshook__',\n",
              " 'capitalize',\n",
              " 'casefold',\n",
              " 'center',\n",
              " 'count',\n",
              " 'encode',\n",
              " 'endswith',\n",
              " 'expandtabs',\n",
              " 'find',\n",
              " 'format',\n",
              " 'format_map',\n",
              " 'index',\n",
              " 'isalnum',\n",
              " 'isalpha',\n",
              " 'isascii',\n",
              " 'isdecimal',\n",
              " 'isdigit',\n",
              " 'isidentifier',\n",
              " 'islower',\n",
              " 'isnumeric',\n",
              " 'isprintable',\n",
              " 'isspace',\n",
              " 'istitle',\n",
              " 'isupper',\n",
              " 'join',\n",
              " 'ljust',\n",
              " 'lower',\n",
              " 'lstrip',\n",
              " 'maketrans',\n",
              " 'partition',\n",
              " 'removeprefix',\n",
              " 'removesuffix',\n",
              " 'replace',\n",
              " 'rfind',\n",
              " 'rindex',\n",
              " 'rjust',\n",
              " 'rpartition',\n",
              " 'rsplit',\n",
              " 'rstrip',\n",
              " 'split',\n",
              " 'splitlines',\n",
              " 'startswith',\n",
              " 'strip',\n",
              " 'swapcase',\n",
              " 'title',\n",
              " 'translate',\n",
              " 'upper',\n",
              " 'zfill']"
            ]
          },
          "metadata": {},
          "execution_count": 30
        }
      ]
    },
    {
      "cell_type": "markdown",
      "source": [
        "String a jeho funkce"
      ],
      "metadata": {
        "id": "Ykb1C3UHyPGt"
      }
    },
    {
      "cell_type": "code",
      "source": [
        "text  = ' Nedávno skončený Mezinárodní strojírenský veletrh, na kterém se sešly špičky strojírenského průmyslu z České republiky i ze zahraničí, potvrdil nedostatek pracovníků na mnoha pozicích tohoto odvětví. '"
      ],
      "metadata": {
        "id": "0J_kKshyydRu"
      },
      "execution_count": null,
      "outputs": []
    },
    {
      "cell_type": "code",
      "source": [
        "upraveny_text=text.strip(' ') #zbavime se prebytecnych mezer.\n",
        "upraveny_text\n"
      ],
      "metadata": {
        "colab": {
          "base_uri": "https://localhost:8080/",
          "height": 53
        },
        "id": "T542X_692u42",
        "outputId": "77523a7b-5c74-4fba-caf6-e999cede3b34"
      },
      "execution_count": null,
      "outputs": [
        {
          "output_type": "execute_result",
          "data": {
            "text/plain": [
              "'Nedávno skončený Mezinárodní strojírenský veletrh, na kterém se sešly špičky strojírenského průmyslu z České republiky i ze zahraničí, potvrdil nedostatek pracovníků na mnoha pozicích tohoto odvětví.'"
            ],
            "application/vnd.google.colaboratory.intrinsic+json": {
              "type": "string"
            }
          },
          "metadata": {},
          "execution_count": 5
        }
      ]
    },
    {
      "cell_type": "code",
      "source": [
        "text #původní text se nemění"
      ],
      "metadata": {
        "colab": {
          "base_uri": "https://localhost:8080/",
          "height": 53
        },
        "id": "3fixf0Ws4DxT",
        "outputId": "66c48434-e13d-4221-b305-c6de5f236b11"
      },
      "execution_count": null,
      "outputs": [
        {
          "output_type": "execute_result",
          "data": {
            "text/plain": [
              "' Nedávno skončený Mezinárodní strojírenský veletrh, na kterém se sešly špičky strojírenského průmyslu z České republiky i ze zahraničí, potvrdil nedostatek pracovníků na mnoha pozicích tohoto odvětví. '"
            ],
            "application/vnd.google.colaboratory.intrinsic+json": {
              "type": "string"
            }
          },
          "metadata": {},
          "execution_count": 6
        }
      ]
    },
    {
      "cell_type": "code",
      "source": [
        "upraveny_text.upper()  #vsechna pismena jsou velka"
      ],
      "metadata": {
        "colab": {
          "base_uri": "https://localhost:8080/",
          "height": 53
        },
        "id": "sGCpRU2G40NS",
        "outputId": "bd6a7f69-0b40-44c4-fdb2-83143abb8424"
      },
      "execution_count": null,
      "outputs": [
        {
          "output_type": "execute_result",
          "data": {
            "text/plain": [
              "'NEDÁVNO SKONČENÝ MEZINÁRODNÍ STROJÍRENSKÝ VELETRH, NA KTERÉM SE SEŠLY ŠPIČKY STROJÍRENSKÉHO PRŮMYSLU Z ČESKÉ REPUBLIKY I ZE ZAHRANIČÍ, POTVRDIL NEDOSTATEK PRACOVNÍKŮ NA MNOHA POZICÍCH TOHOTO ODVĚTVÍ.'"
            ],
            "application/vnd.google.colaboratory.intrinsic+json": {
              "type": "string"
            }
          },
          "metadata": {},
          "execution_count": 7
        }
      ]
    },
    {
      "cell_type": "markdown",
      "source": [
        "Řetězení"
      ],
      "metadata": {
        "id": "xKx4efrs5GlW"
      }
    },
    {
      "cell_type": "code",
      "source": [
        "text.strip().upper()"
      ],
      "metadata": {
        "colab": {
          "base_uri": "https://localhost:8080/",
          "height": 53
        },
        "id": "e3T7Mx3Q5PW3",
        "outputId": "1d0adf0c-8bfd-4ed9-e9b8-bf6e848a27c4"
      },
      "execution_count": null,
      "outputs": [
        {
          "output_type": "execute_result",
          "data": {
            "text/plain": [
              "'NEDÁVNO SKONČENÝ MEZINÁRODNÍ STROJÍRENSKÝ VELETRH, NA KTERÉM SE SEŠLY ŠPIČKY STROJÍRENSKÉHO PRŮMYSLU Z ČESKÉ REPUBLIKY I ZE ZAHRANIČÍ, POTVRDIL NEDOSTATEK PRACOVNÍKŮ NA MNOHA POZICÍCH TOHOTO ODVĚTVÍ.'"
            ],
            "application/vnd.google.colaboratory.intrinsic+json": {
              "type": "string"
            }
          },
          "metadata": {},
          "execution_count": 8
        }
      ]
    },
    {
      "cell_type": "code",
      "source": [
        "text.strip().title()"
      ],
      "metadata": {
        "colab": {
          "base_uri": "https://localhost:8080/",
          "height": 53
        },
        "id": "_pFaIat853d0",
        "outputId": "f238f65d-979a-4c1e-ccf6-b1b576a82b1a"
      },
      "execution_count": null,
      "outputs": [
        {
          "output_type": "execute_result",
          "data": {
            "text/plain": [
              "'Nedávno Skončený Mezinárodní Strojírenský Veletrh, Na Kterém Se Sešly Špičky Strojírenského Průmyslu Z České Republiky I Ze Zahraničí, Potvrdil Nedostatek Pracovníků Na Mnoha Pozicích Tohoto Odvětví.'"
            ],
            "application/vnd.google.colaboratory.intrinsic+json": {
              "type": "string"
            }
          },
          "metadata": {},
          "execution_count": 9
        }
      ]
    },
    {
      "cell_type": "code",
      "source": [
        "text.strip().upper().lower()"
      ],
      "metadata": {
        "colab": {
          "base_uri": "https://localhost:8080/",
          "height": 53
        },
        "id": "bOSWqnGq6DZh",
        "outputId": "14d17ae2-9e5c-4a20-f6da-a040412f113a"
      },
      "execution_count": null,
      "outputs": [
        {
          "output_type": "execute_result",
          "data": {
            "text/plain": [
              "'nedávno skončený mezinárodní strojírenský veletrh, na kterém se sešly špičky strojírenského průmyslu z české republiky i ze zahraničí, potvrdil nedostatek pracovníků na mnoha pozicích tohoto odvětví.'"
            ],
            "application/vnd.google.colaboratory.intrinsic+json": {
              "type": "string"
            }
          },
          "metadata": {},
          "execution_count": 11
        }
      ]
    },
    {
      "cell_type": "code",
      "source": [
        "text.split() #rozdeleni dle slov."
      ],
      "metadata": {
        "colab": {
          "base_uri": "https://localhost:8080/"
        },
        "id": "Lswefklh6Tw4",
        "outputId": "7ec56b38-0529-40f9-f7db-7303cb777147"
      },
      "execution_count": null,
      "outputs": [
        {
          "output_type": "execute_result",
          "data": {
            "text/plain": [
              "['Nedávno',\n",
              " 'skončený',\n",
              " 'Mezinárodní',\n",
              " 'strojírenský',\n",
              " 'veletrh,',\n",
              " 'na',\n",
              " 'kterém',\n",
              " 'se',\n",
              " 'sešly',\n",
              " 'špičky',\n",
              " 'strojírenského',\n",
              " 'průmyslu',\n",
              " 'z',\n",
              " 'České',\n",
              " 'republiky',\n",
              " 'i',\n",
              " 'ze',\n",
              " 'zahraničí,',\n",
              " 'potvrdil',\n",
              " 'nedostatek',\n",
              " 'pracovníků',\n",
              " 'na',\n",
              " 'mnoha',\n",
              " 'pozicích',\n",
              " 'tohoto',\n",
              " 'odvětví.']"
            ]
          },
          "metadata": {},
          "execution_count": 31
        }
      ]
    },
    {
      "cell_type": "code",
      "source": [
        "dir(text)"
      ],
      "metadata": {
        "colab": {
          "base_uri": "https://localhost:8080/"
        },
        "id": "BmHv5lt48u5X",
        "outputId": "8c9bf7c3-b1b6-42a6-8e5f-96a01afe32b0"
      },
      "execution_count": null,
      "outputs": [
        {
          "output_type": "execute_result",
          "data": {
            "text/plain": [
              "['__add__',\n",
              " '__class__',\n",
              " '__contains__',\n",
              " '__delattr__',\n",
              " '__dir__',\n",
              " '__doc__',\n",
              " '__eq__',\n",
              " '__format__',\n",
              " '__ge__',\n",
              " '__getattribute__',\n",
              " '__getitem__',\n",
              " '__getnewargs__',\n",
              " '__gt__',\n",
              " '__hash__',\n",
              " '__init__',\n",
              " '__init_subclass__',\n",
              " '__iter__',\n",
              " '__le__',\n",
              " '__len__',\n",
              " '__lt__',\n",
              " '__mod__',\n",
              " '__mul__',\n",
              " '__ne__',\n",
              " '__new__',\n",
              " '__reduce__',\n",
              " '__reduce_ex__',\n",
              " '__repr__',\n",
              " '__rmod__',\n",
              " '__rmul__',\n",
              " '__setattr__',\n",
              " '__sizeof__',\n",
              " '__str__',\n",
              " '__subclasshook__',\n",
              " 'capitalize',\n",
              " 'casefold',\n",
              " 'center',\n",
              " 'count',\n",
              " 'encode',\n",
              " 'endswith',\n",
              " 'expandtabs',\n",
              " 'find',\n",
              " 'format',\n",
              " 'format_map',\n",
              " 'index',\n",
              " 'isalnum',\n",
              " 'isalpha',\n",
              " 'isascii',\n",
              " 'isdecimal',\n",
              " 'isdigit',\n",
              " 'isidentifier',\n",
              " 'islower',\n",
              " 'isnumeric',\n",
              " 'isprintable',\n",
              " 'isspace',\n",
              " 'istitle',\n",
              " 'isupper',\n",
              " 'join',\n",
              " 'ljust',\n",
              " 'lower',\n",
              " 'lstrip',\n",
              " 'maketrans',\n",
              " 'partition',\n",
              " 'removeprefix',\n",
              " 'removesuffix',\n",
              " 'replace',\n",
              " 'rfind',\n",
              " 'rindex',\n",
              " 'rjust',\n",
              " 'rpartition',\n",
              " 'rsplit',\n",
              " 'rstrip',\n",
              " 'split',\n",
              " 'splitlines',\n",
              " 'startswith',\n",
              " 'strip',\n",
              " 'swapcase',\n",
              " 'title',\n",
              " 'translate',\n",
              " 'upper',\n",
              " 'zfill']"
            ]
          },
          "metadata": {},
          "execution_count": 13
        }
      ]
    },
    {
      "cell_type": "markdown",
      "source": [
        "A) najit v textu pismeno a."
      ],
      "metadata": {
        "id": "j-g4vCv6-NP8"
      }
    },
    {
      "cell_type": "code",
      "source": [
        "text ='Nedávno skončený Mezinárodní strojírenský veletrh, na kterém se sešly špičky strojírenského průmyslu z České republiky i ze zahraničí, potvrdil nedostatek pracovníků na mnoha pozicích tohoto odvětví. '"
      ],
      "metadata": {
        "id": "NGoo65Dh-g4y"
      },
      "execution_count": null,
      "outputs": []
    },
    {
      "cell_type": "code",
      "source": [
        "#A\n",
        "text.index('a')"
      ],
      "metadata": {
        "colab": {
          "base_uri": "https://localhost:8080/"
        },
        "id": "Rk7v1fOs-xoz",
        "outputId": "d9acb8e4-6283-4079-f72d-36ca0fa55e57"
      },
      "execution_count": null,
      "outputs": [
        {
          "output_type": "execute_result",
          "data": {
            "text/plain": [
              "53"
            ]
          },
          "metadata": {},
          "execution_count": 14
        }
      ]
    },
    {
      "cell_type": "markdown",
      "source": [
        "B) nahradit všechna e za hvězdičku*."
      ],
      "metadata": {
        "id": "6cm-luNY-7yp"
      }
    },
    {
      "cell_type": "code",
      "source": [
        "#B\n",
        "text.replace('e','*')"
      ],
      "metadata": {
        "colab": {
          "base_uri": "https://localhost:8080/",
          "height": 53
        },
        "id": "Vyj6cN2i_KU7",
        "outputId": "2ff76357-2226-41bc-bc85-35fb5999310b"
      },
      "execution_count": null,
      "outputs": [
        {
          "output_type": "execute_result",
          "data": {
            "text/plain": [
              "' N*dávno skonč*ný M*zinárodní strojír*nský v*l*trh, na kt*rém s* s*šly špičky strojír*nského průmyslu z Č*ské r*publiky i z* zahraničí, potvrdil n*dostat*k pracovníků na mnoha pozicích tohoto odvětví. '"
            ],
            "application/vnd.google.colaboratory.intrinsic+json": {
              "type": "string"
            }
          },
          "metadata": {},
          "execution_count": 17
        }
      ]
    },
    {
      "cell_type": "markdown",
      "source": [
        "C) Zjistit pravda či lež. False of True."
      ],
      "metadata": {
        "id": "xn2GUNIk_pUX"
      }
    },
    {
      "cell_type": "code",
      "source": [
        "#C\n",
        "text.islower()"
      ],
      "metadata": {
        "colab": {
          "base_uri": "https://localhost:8080/"
        },
        "id": "MLWybM7a__H8",
        "outputId": "da7b307d-69e9-46a1-d4f1-6858796233d4"
      },
      "execution_count": null,
      "outputs": [
        {
          "output_type": "execute_result",
          "data": {
            "text/plain": [
              "False"
            ]
          },
          "metadata": {},
          "execution_count": 18
        }
      ]
    },
    {
      "cell_type": "code",
      "source": [
        "text.lower().islower()"
      ],
      "metadata": {
        "colab": {
          "base_uri": "https://localhost:8080/"
        },
        "id": "BZgHIFKSAINY",
        "outputId": "416c4e72-ff66-4a4c-c033-f6932aa91b98"
      },
      "execution_count": null,
      "outputs": [
        {
          "output_type": "execute_result",
          "data": {
            "text/plain": [
              "True"
            ]
          },
          "metadata": {},
          "execution_count": 19
        }
      ]
    },
    {
      "cell_type": "markdown",
      "source": [
        "List"
      ],
      "metadata": {
        "id": "uNKlrtVYAr9c"
      }
    },
    {
      "cell_type": "code",
      "source": [
        "my_list = []\n",
        "\n",
        "my_list = ['prvek','druhy','treti']\n",
        "\n",
        "type(my_list)\n"
      ],
      "metadata": {
        "colab": {
          "base_uri": "https://localhost:8080/"
        },
        "id": "dy9K9NYEAwY-",
        "outputId": "c740fda9-360f-41d5-8c7e-939a48de1b13"
      },
      "execution_count": null,
      "outputs": [
        {
          "output_type": "execute_result",
          "data": {
            "text/plain": [
              "list"
            ]
          },
          "metadata": {},
          "execution_count": 20
        }
      ]
    },
    {
      "cell_type": "code",
      "source": [
        "text ='Nedávno skončený Mezinárodní strojírenský veletrh, na kterém se sešly špičky strojírenského průmyslu z České republiky i ze zahraničí, potvrdil nedostatek pracovníků na mnoha pozicích tohoto odvětví.'\n",
        "my_list=text.split(\" \") #vytvorim list ze stringu.\n",
        "my_list\n"
      ],
      "metadata": {
        "colab": {
          "base_uri": "https://localhost:8080/"
        },
        "id": "k1ylPJdKEWhv",
        "outputId": "5bf0cb9a-b626-4806-8a96-4485be71a4c2"
      },
      "execution_count": null,
      "outputs": [
        {
          "output_type": "execute_result",
          "data": {
            "text/plain": [
              "['Nedávno',\n",
              " 'skončený',\n",
              " 'Mezinárodní',\n",
              " 'strojírenský',\n",
              " 'veletrh,',\n",
              " 'na',\n",
              " 'kterém',\n",
              " 'se',\n",
              " 'sešly',\n",
              " 'špičky',\n",
              " 'strojírenského',\n",
              " 'průmyslu',\n",
              " 'z',\n",
              " 'České',\n",
              " 'republiky',\n",
              " 'i',\n",
              " 'ze',\n",
              " 'zahraničí,',\n",
              " 'potvrdil',\n",
              " 'nedostatek',\n",
              " 'pracovníků',\n",
              " 'na',\n",
              " 'mnoha',\n",
              " 'pozicích',\n",
              " 'tohoto',\n",
              " 'odvětví.']"
            ]
          },
          "metadata": {},
          "execution_count": 21
        }
      ]
    },
    {
      "cell_type": "code",
      "source": [
        "type(my_list)\n"
      ],
      "metadata": {
        "colab": {
          "base_uri": "https://localhost:8080/"
        },
        "id": "DzQ3HLybF0MM",
        "outputId": "e70ce76f-108f-43be-837b-109d24863954"
      },
      "execution_count": null,
      "outputs": [
        {
          "output_type": "execute_result",
          "data": {
            "text/plain": [
              "list"
            ]
          },
          "metadata": {},
          "execution_count": 24
        }
      ]
    },
    {
      "cell_type": "code",
      "source": [
        "dir(my_list)"
      ],
      "metadata": {
        "colab": {
          "base_uri": "https://localhost:8080/"
        },
        "id": "QtpIsrs6F-Xc",
        "outputId": "39b4cc58-64fa-4937-a3bb-177ac89fdba0"
      },
      "execution_count": null,
      "outputs": [
        {
          "output_type": "execute_result",
          "data": {
            "text/plain": [
              "['__add__',\n",
              " '__class__',\n",
              " '__class_getitem__',\n",
              " '__contains__',\n",
              " '__delattr__',\n",
              " '__delitem__',\n",
              " '__dir__',\n",
              " '__doc__',\n",
              " '__eq__',\n",
              " '__format__',\n",
              " '__ge__',\n",
              " '__getattribute__',\n",
              " '__getitem__',\n",
              " '__gt__',\n",
              " '__hash__',\n",
              " '__iadd__',\n",
              " '__imul__',\n",
              " '__init__',\n",
              " '__init_subclass__',\n",
              " '__iter__',\n",
              " '__le__',\n",
              " '__len__',\n",
              " '__lt__',\n",
              " '__mul__',\n",
              " '__ne__',\n",
              " '__new__',\n",
              " '__reduce__',\n",
              " '__reduce_ex__',\n",
              " '__repr__',\n",
              " '__reversed__',\n",
              " '__rmul__',\n",
              " '__setattr__',\n",
              " '__setitem__',\n",
              " '__sizeof__',\n",
              " '__str__',\n",
              " '__subclasshook__',\n",
              " 'append',\n",
              " 'clear',\n",
              " 'copy',\n",
              " 'count',\n",
              " 'extend',\n",
              " 'index',\n",
              " 'insert',\n",
              " 'pop',\n",
              " 'remove',\n",
              " 'reverse',\n",
              " 'sort']"
            ]
          },
          "metadata": {},
          "execution_count": 25
        }
      ]
    },
    {
      "cell_type": "code",
      "source": [
        "my_list[:5]  #Dostanu jen cast.\n"
      ],
      "metadata": {
        "colab": {
          "base_uri": "https://localhost:8080/"
        },
        "id": "q7qh1FquHQkK",
        "outputId": "2c33a32e-c30a-4879-ef79-541e2d352c62"
      },
      "execution_count": null,
      "outputs": [
        {
          "output_type": "execute_result",
          "data": {
            "text/plain": [
              "['Nedávno', 'skončený', 'Mezinárodní', 'strojírenský', 'veletrh,']"
            ]
          },
          "metadata": {},
          "execution_count": 26
        }
      ]
    },
    {
      "cell_type": "code",
      "source": [
        "my_list[1]  #Dostanu se znovu jen ke stringu...indeovanim se dostanu k obsahu. je to list stringu!\n"
      ],
      "metadata": {
        "colab": {
          "base_uri": "https://localhost:8080/",
          "height": 35
        },
        "id": "vSoLtfUhHh-g",
        "outputId": "a13b16d3-fe5b-44d6-b4d2-feb89a0e2a9f"
      },
      "execution_count": null,
      "outputs": [
        {
          "output_type": "execute_result",
          "data": {
            "text/plain": [
              "'skončený'"
            ],
            "application/vnd.google.colaboratory.intrinsic+json": {
              "type": "string"
            }
          },
          "metadata": {},
          "execution_count": 28
        }
      ]
    },
    {
      "cell_type": "code",
      "source": [
        "my_list + my_list"
      ],
      "metadata": {
        "colab": {
          "base_uri": "https://localhost:8080/"
        },
        "id": "pRPWywmLIdEe",
        "outputId": "9b8528d1-d033-4b91-cf29-c52d4a241791"
      },
      "execution_count": null,
      "outputs": [
        {
          "output_type": "execute_result",
          "data": {
            "text/plain": [
              "['Nedávno',\n",
              " 'skončený',\n",
              " 'Mezinárodní',\n",
              " 'strojírenský',\n",
              " 'veletrh,',\n",
              " 'na',\n",
              " 'kterém',\n",
              " 'se',\n",
              " 'sešly',\n",
              " 'špičky',\n",
              " 'strojírenského',\n",
              " 'průmyslu',\n",
              " 'z',\n",
              " 'České',\n",
              " 'republiky',\n",
              " 'i',\n",
              " 'ze',\n",
              " 'zahraničí,',\n",
              " 'potvrdil',\n",
              " 'nedostatek',\n",
              " 'pracovníků',\n",
              " 'na',\n",
              " 'mnoha',\n",
              " 'pozicích',\n",
              " 'tohoto',\n",
              " 'odvětví.',\n",
              " 'Nedávno',\n",
              " 'skončený',\n",
              " 'Mezinárodní',\n",
              " 'strojírenský',\n",
              " 'veletrh,',\n",
              " 'na',\n",
              " 'kterém',\n",
              " 'se',\n",
              " 'sešly',\n",
              " 'špičky',\n",
              " 'strojírenského',\n",
              " 'průmyslu',\n",
              " 'z',\n",
              " 'České',\n",
              " 'republiky',\n",
              " 'i',\n",
              " 'ze',\n",
              " 'zahraničí,',\n",
              " 'potvrdil',\n",
              " 'nedostatek',\n",
              " 'pracovníků',\n",
              " 'na',\n",
              " 'mnoha',\n",
              " 'pozicích',\n",
              " 'tohoto',\n",
              " 'odvětví.']"
            ]
          },
          "metadata": {},
          "execution_count": 29
        }
      ]
    },
    {
      "cell_type": "code",
      "source": [
        "my_list - my_list  #chyba: nelze odecitat ani delit."
      ],
      "metadata": {
        "colab": {
          "base_uri": "https://localhost:8080/",
          "height": 169
        },
        "id": "FEvXePl1JQ0E",
        "outputId": "e723feec-d09b-406c-d245-2b63cf3dd989"
      },
      "execution_count": null,
      "outputs": [
        {
          "output_type": "error",
          "ename": "TypeError",
          "evalue": "ignored",
          "traceback": [
            "\u001b[0;31m---------------------------------------------------------------------------\u001b[0m",
            "\u001b[0;31mTypeError\u001b[0m                                 Traceback (most recent call last)",
            "\u001b[0;32m<ipython-input-36-0b30cc800c00>\u001b[0m in \u001b[0;36m<cell line: 1>\u001b[0;34m()\u001b[0m\n\u001b[0;32m----> 1\u001b[0;31m \u001b[0mmy_list\u001b[0m \u001b[0;34m-\u001b[0m \u001b[0mmy_list\u001b[0m  \u001b[0;31m#chyba: nelze odecitat ani delit.\u001b[0m\u001b[0;34m\u001b[0m\u001b[0;34m\u001b[0m\u001b[0m\n\u001b[0m",
            "\u001b[0;31mTypeError\u001b[0m: unsupported operand type(s) for -: 'list' and 'list'"
          ]
        }
      ]
    },
    {
      "cell_type": "code",
      "source": [
        "my_list[:2] *5  #lze nasobit."
      ],
      "metadata": {
        "colab": {
          "base_uri": "https://localhost:8080/"
        },
        "id": "TKPkgs0qIOQI",
        "outputId": "a2986599-85cb-4d21-e633-8c2a97f91768"
      },
      "execution_count": null,
      "outputs": [
        {
          "output_type": "execute_result",
          "data": {
            "text/plain": [
              "['Nedávno',\n",
              " 'skončený',\n",
              " 'Nedávno',\n",
              " 'skončený',\n",
              " 'Nedávno',\n",
              " 'skončený',\n",
              " 'Nedávno',\n",
              " 'skončený',\n",
              " 'Nedávno',\n",
              " 'skončený']"
            ]
          },
          "metadata": {},
          "execution_count": 35
        }
      ]
    },
    {
      "cell_type": "code",
      "source": [
        "list_slow = list (\"Mýtus padesátníků ve strojírenství neplatí\")  #rozdeli tuto vetu.\n",
        "list_slow"
      ],
      "metadata": {
        "colab": {
          "base_uri": "https://localhost:8080/"
        },
        "id": "0xXlpUjKLZpm",
        "outputId": "7834c8ce-d6a5-4758-db77-bec47009ca82"
      },
      "execution_count": null,
      "outputs": [
        {
          "output_type": "execute_result",
          "data": {
            "text/plain": [
              "['M',\n",
              " 'ý',\n",
              " 't',\n",
              " 'u',\n",
              " 's',\n",
              " ' ',\n",
              " 'p',\n",
              " 'a',\n",
              " 'd',\n",
              " 'e',\n",
              " 's',\n",
              " 'á',\n",
              " 't',\n",
              " 'n',\n",
              " 'í',\n",
              " 'k',\n",
              " 'ů',\n",
              " ' ',\n",
              " 'v',\n",
              " 'e',\n",
              " ' ',\n",
              " 's',\n",
              " 't',\n",
              " 'r',\n",
              " 'o',\n",
              " 'j',\n",
              " 'í',\n",
              " 'r',\n",
              " 'e',\n",
              " 'n',\n",
              " 's',\n",
              " 't',\n",
              " 'v',\n",
              " 'í',\n",
              " ' ',\n",
              " 'n',\n",
              " 'e',\n",
              " 'p',\n",
              " 'l',\n",
              " 'a',\n",
              " 't',\n",
              " 'í']"
            ]
          },
          "metadata": {},
          "execution_count": 38
        }
      ]
    },
    {
      "cell_type": "code",
      "source": [
        "str(list_slow)"
      ],
      "metadata": {
        "colab": {
          "base_uri": "https://localhost:8080/",
          "height": 53
        },
        "id": "q94FAU7rMCjp",
        "outputId": "ef0626a9-06c8-4633-a29b-bb578e531cc1"
      },
      "execution_count": null,
      "outputs": [
        {
          "output_type": "execute_result",
          "data": {
            "text/plain": [
              "\"['M', 'ý', 't', 'u', 's', ' ', 'p', 'a', 'd', 'e', 's', 'á', 't', 'n', 'í', 'k', 'ů', ' ', 'v', 'e', ' ', 's', 't', 'r', 'o', 'j', 'í', 'r', 'e', 'n', 's', 't', 'v', 'í', ' ', 'n', 'e', 'p', 'l', 'a', 't', 'í']\""
            ],
            "application/vnd.google.colaboratory.intrinsic+json": {
              "type": "string"
            }
          },
          "metadata": {},
          "execution_count": 39
        }
      ]
    },
    {
      "cell_type": "code",
      "source": [
        "type(str(list_slow))"
      ],
      "metadata": {
        "colab": {
          "base_uri": "https://localhost:8080/"
        },
        "id": "UcLO3fbdMaOD",
        "outputId": "3385003c-2926-48d7-fff5-62f7fce101dc"
      },
      "execution_count": null,
      "outputs": [
        {
          "output_type": "execute_result",
          "data": {
            "text/plain": [
              "str"
            ]
          },
          "metadata": {},
          "execution_count": 40
        }
      ]
    }
  ]
}